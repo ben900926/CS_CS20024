{
  "cells": [
    {
      "cell_type": "markdown",
      "metadata": {
        "id": "view-in-github",
        "colab_type": "text"
      },
      "source": [
        "<a href=\"https://colab.research.google.com/github/ben900926/CS_CS20024/blob/main/HW5_task2.ipynb\" target=\"_parent\"><img src=\"https://colab.research.google.com/assets/colab-badge.svg\" alt=\"Open In Colab\"/></a>"
      ]
    },
    {
      "cell_type": "code",
      "source": [
        "from google.colab import drive\n",
        "drive.mount('/content/drive')"
      ],
      "metadata": {
        "id": "-kMCiMxcAe3x",
        "colab": {
          "base_uri": "https://localhost:8080/"
        },
        "outputId": "bdb60c17-e91a-4bc4-a726-e21cdf7588c9"
      },
      "id": "-kMCiMxcAe3x",
      "execution_count": null,
      "outputs": [
        {
          "output_type": "stream",
          "name": "stdout",
          "text": [
            "Drive already mounted at /content/drive; to attempt to forcibly remount, call drive.mount(\"/content/drive\", force_remount=True).\n"
          ]
        }
      ]
    },
    {
      "cell_type": "code",
      "execution_count": null,
      "id": "6b9cf651",
      "metadata": {
        "execution": {
          "iopub.execute_input": "2022-11-25T04:50:30.881823Z",
          "iopub.status.busy": "2022-11-25T04:50:30.881165Z",
          "iopub.status.idle": "2022-11-25T04:50:32.983521Z",
          "shell.execute_reply": "2022-11-25T04:50:32.982295Z"
        },
        "papermill": {
          "duration": 2.109989,
          "end_time": "2022-11-25T04:50:32.986527",
          "exception": false,
          "start_time": "2022-11-25T04:50:30.876538",
          "status": "completed"
        },
        "tags": [],
        "id": "6b9cf651"
      },
      "outputs": [],
      "source": [
        "import csv\n",
        "import cv2\n",
        "import numpy as np\n",
        "import random\n",
        "import os\n",
        "\n",
        "from tqdm import tqdm\n",
        "\n",
        "from tensorflow import keras\n",
        "import matplotlib.pyplot as plt\n",
        "\n"
      ]
    },
    {
      "cell_type": "code",
      "execution_count": null,
      "id": "e52fada5",
      "metadata": {
        "execution": {
          "iopub.execute_input": "2022-11-25T04:50:32.995956Z",
          "iopub.status.busy": "2022-11-25T04:50:32.994774Z",
          "iopub.status.idle": "2022-11-25T04:50:33.001735Z",
          "shell.execute_reply": "2022-11-25T04:50:33.000477Z"
        },
        "papermill": {
          "duration": 0.014176,
          "end_time": "2022-11-25T04:50:33.004252",
          "exception": false,
          "start_time": "2022-11-25T04:50:32.990076",
          "status": "completed"
        },
        "tags": [],
        "id": "e52fada5"
      },
      "outputs": [],
      "source": [
        "TRAIN_PATH = \"drive/MyDrive/kaggle/train\"\n",
        "TEST_PATH = \"drive/MyDrive/kaggle/test\"\n",
        "\n",
        "#TRAIN_PATH = \"/kaggle/input/captcha-hacker/train\"\n",
        "#TEST_PATH = \"/kaggle/input/captcha-hacker/test\"\n",
        "device = \"cuda\"\n",
        "# try device = \"cuda\" \n",
        "# and change your settings/accelerator to GPU if you want it to run faster"
      ]
    },
    {
      "cell_type": "markdown",
      "source": [
        "# plt Example"
      ],
      "metadata": {
        "id": "K9I3GhNOjBT4"
      },
      "id": "K9I3GhNOjBT4"
    },
    {
      "cell_type": "code",
      "source": [
        "# plot two examples\n",
        "def plot_ (img1, img2) :\n",
        "  plt.figure(figsize = (20,5))\n",
        "  \n",
        "  plt.subplot(1,2,1)\n",
        "  plt.imshow(img1, 'gray')\n",
        "  \n",
        "  plt.axis('off')\n",
        "  \n",
        "  plt.subplot(1,2,2)\n",
        "  plt.imshow(img2, 'gray')\n",
        "  \n",
        "  plt.axis('off')\n",
        "\n",
        "\n",
        "path1 = TRAIN_PATH + '/task2/x9S5CJ1tWb2oGf2d.png'\n",
        "path2 = TRAIN_PATH + '/task2/teBi6eqghtOLsGey.png'\n",
        "\n",
        "img1 = cv2.imread(path1, cv2.IMREAD_GRAYSCALE)\n",
        "img2 = cv2.imread(path2, cv2.IMREAD_GRAYSCALE)\n",
        "\n",
        "plot_(img1, img2)\n"
      ],
      "metadata": {
        "colab": {
          "base_uri": "https://localhost:8080/",
          "height": 231
        },
        "id": "6TNHCtcqjEhu",
        "outputId": "724fcd74-6878-441b-eb3d-baa0b4e3b0ee"
      },
      "id": "6TNHCtcqjEhu",
      "execution_count": null,
      "outputs": [
        {
          "output_type": "display_data",
          "data": {
            "text/plain": [
              "<Figure size 1440x360 with 2 Axes>"
            ],
            "image/png": "[encoded data removed]"
          },
          "metadata": {
            "needs_background": "light"
          }
        }
      ]
    },
    {
      "cell_type": "code",
      "source": [
        "# adaptive thresholding : Algorithms determine the threshold for a pixel based on its surrounding regions\n",
        "thresh_img1 = cv2.adaptiveThreshold(img1, 255, cv2.ADAPTIVE_THRESH_GAUSSIAN_C, cv2.THRESH_BINARY, 145, 0)\n",
        "thresh_img2 = cv2.adaptiveThreshold(img2, 255, cv2.ADAPTIVE_THRESH_GAUSSIAN_C, cv2.THRESH_BINARY, 145, 0)\n",
        "plot_(thresh_img1, thresh_img2)"
      ],
      "metadata": {
        "colab": {
          "base_uri": "https://localhost:8080/",
          "height": 231
        },
        "id": "3hcWO3SskXQh",
        "outputId": "9e78bdd0-db2a-45b9-d2a7-8c6ebced263a"
      },
      "id": "3hcWO3SskXQh",
      "execution_count": null,
      "outputs": [
        {
          "output_type": "display_data",
          "data": {
            "text/plain": [
              "<Figure size 1440x360 with 2 Axes>"
            ],
            "image/png": "[encoded data removed]"
          },
          "metadata": {
            "needs_background": "light"
          }
        }
      ]
    },
    {
      "cell_type": "code",
      "source": [
        "# Erosion close : used to remove some noise\n",
        "close_img1 = cv2.morphologyEx(thresh_img1, cv2.MORPH_CLOSE, np.ones((5,2), np.uint8))\n",
        "close_img2 = cv2.morphologyEx(thresh_img2, cv2.MORPH_CLOSE, np.ones((5,2), np.uint8))\n",
        "plot_(close_img1, close_img2)"
      ],
      "metadata": {
        "colab": {
          "base_uri": "https://localhost:8080/",
          "height": 231
        },
        "id": "ZSlQccgGlPOq",
        "outputId": "09aa43d5-0fc0-4c72-d31b-e52824c85d64"
      },
      "id": "ZSlQccgGlPOq",
      "execution_count": null,
      "outputs": [
        {
          "output_type": "display_data",
          "data": {
            "text/plain": [
              "<Figure size 1440x360 with 2 Axes>"
            ],
            "image/png": "[encoded data removed]"
          },
          "metadata": {
            "needs_background": "light"
          }
        }
      ]
    },
    {
      "cell_type": "code",
      "source": [
        "# Dilation\n",
        "dilate_img1 = cv2.dilate(close_img1, np.ones((2,2), np.uint8), iterations = 1)\n",
        "dilate_img2 = cv2.dilate(close_img2, np.ones((2,2), np.uint8), iterations = 1)\n",
        "plot_(dilate_img1, dilate_img2)"
      ],
      "metadata": {
        "colab": {
          "base_uri": "https://localhost:8080/",
          "height": 231
        },
        "id": "pDj42m_rlzIE",
        "outputId": "4bbaaa3d-a84c-4f10-b2ce-5468c9b09e65"
      },
      "id": "pDj42m_rlzIE",
      "execution_count": null,
      "outputs": [
        {
          "output_type": "display_data",
          "data": {
            "text/plain": [
              "<Figure size 1440x360 with 2 Axes>"
            ],
            "image/png": "[encoded data removed]"
          },
          "metadata": {
            "needs_background": "light"
          }
        }
      ]
    },
    {
      "cell_type": "code",
      "source": [
        "# Gaussian blurring : help use remove more noise\n",
        "gauss_img1 = cv2.GaussianBlur(dilate_img1, (1,1), 0)\n",
        "gauss_img2 = cv2.GaussianBlur(dilate_img2, (1,1), 0)\n",
        "plot_(gauss_img1, gauss_img2)"
      ],
      "metadata": {
        "colab": {
          "base_uri": "https://localhost:8080/",
          "height": 231
        },
        "id": "K60Ha0jhmo1a",
        "outputId": "9b708dbf-5337-4a80-eddd-73909910c46b"
      },
      "id": "K60Ha0jhmo1a",
      "execution_count": null,
      "outputs": [
        {
          "output_type": "display_data",
          "data": {
            "text/plain": [
              "<Figure size 1440x360 with 2 Axes>"
            ],
            "image/png": "[encoded data removed]"
          },
          "metadata": {
            "needs_background": "light"
          }
        }
      ]
    },
    {
      "cell_type": "code",
      "source": [
        "# parition 2 batch normalization\n",
        "# each partition: 30 X 55\n",
        "cv2.rectangle(gauss_img1, (10,5), (40,60), 0, 1)\n",
        "cv2.rectangle(gauss_img1, (40,5), (70,60), 0, 1)\n",
        "\n",
        "cv2.rectangle(gauss_img2, (10,5), (40,60), 0, 1)\n",
        "cv2.rectangle(gauss_img2, (40,5), (70,60), 0, 1)\n",
        "\n",
        "plot_(gauss_img1, gauss_img2)"
      ],
      "metadata": {
        "colab": {
          "base_uri": "https://localhost:8080/",
          "height": 231
        },
        "id": "N95W6qFWtkhG",
        "outputId": "fbab7735-06f6-466e-9167-f907d1dcbeb8"
      },
      "id": "N95W6qFWtkhG",
      "execution_count": null,
      "outputs": [
        {
          "output_type": "display_data",
          "data": {
            "text/plain": [
              "<Figure size 1440x360 with 2 Axes>"
            ],
            "image/png": "[encoded data removed]"
          },
          "metadata": {
            "needs_background": "light"
          }
        }
      ]
    },
    {
      "cell_type": "markdown",
      "source": [
        "# Preprocess image"
      ],
      "metadata": {
        "id": "JRmnrR2aoXcJ"
      },
      "id": "JRmnrR2aoXcJ"
    },
    {
      "cell_type": "code",
      "source": [
        "# preprocessing step for task 1\n",
        "def preprocessing(img):\n",
        "  a_img = cv2.adaptiveThreshold(img, 255, cv2.ADAPTIVE_THRESH_GAUSSIAN_C, cv2.THRESH_BINARY, 145, 0)\n",
        "  c_img = cv2.morphologyEx(a_img, cv2.MORPH_CLOSE, np.ones((5,2), np.uint8))\n",
        "  d_img = cv2.dilate(c_img, np.ones((2,2), np.uint8), iterations = 1)\n",
        "  g_img = cv2.GaussianBlur(d_img, (1,1), 0)\n",
        "\n",
        "  return g_img\n"
      ],
      "metadata": {
        "id": "yH_DvrRVoV4B"
      },
      "id": "yH_DvrRVoV4B",
      "execution_count": null,
      "outputs": []
    },
    {
      "cell_type": "code",
      "source": [
        "from tensorflow.keras.utils import img_to_array\n",
        "from PIL import Image\n",
        "\n",
        "x_train = [] # [ ['task1/aoRRfheQJeU3LFd4.png' '0'] ['task1/uqctCAnyY2UCgN2A.png' '3']\n",
        "y_train = []\n",
        "\n",
        "# read all images in task 2\n",
        "count = 0\n",
        "with open(f'{TRAIN_PATH}/annotations.csv', newline='') as csvfile:\n",
        "  for row in csv.reader(csvfile, delimiter=','):\n",
        "    if(row[0][:5]!=\"task2\"):\n",
        "      continue\n",
        "    if(count%100 == 0):\n",
        "      print(f\"load {count} data\")\n",
        "\n",
        "\n",
        "    count+=1\n",
        "\n",
        "    img = cv2.imread(os.path.join(TRAIN_PATH, row[0]), cv2.IMREAD_GRAYSCALE)\n",
        "    img = preprocessing(img)\n",
        "\n",
        "    # two 30 X 55 digits\n",
        "    image_list = [img[5:60, 10:40], img[5:60, 40:70]]\n",
        "    \n",
        "    for i in range(2):\n",
        "      x_train.append(img_to_array(Image.fromarray(image_list[i])))\n",
        "      y_train.append(row[1][i])\n",
        "    \n",
        "\n",
        "x_train = np.array(x_train)\n",
        "y_train = np.array(y_train)\n",
        "x_train /= 255.0\n",
        "\n",
        "print(x_train.shape)\n",
        "print(y_train.shape)\n",
        "\n"
      ],
      "metadata": {
        "colab": {
          "base_uri": "https://localhost:8080/"
        },
        "id": "LV1wpXiGqio9",
        "outputId": "318c795c-2407-474a-f2dc-486e31ab6454"
      },
      "id": "LV1wpXiGqio9",
      "execution_count": null,
      "outputs": [
        {
          "output_type": "stream",
          "name": "stdout",
          "text": [
            "load 0 data\n",
            "load 100 data\n",
            "load 200 data\n",
            "load 300 data\n",
            "load 400 data\n",
            "load 500 data\n",
            "load 600 data\n",
            "load 700 data\n",
            "load 800 data\n",
            "load 900 data\n",
            "load 1000 data\n",
            "load 1100 data\n",
            "load 1200 data\n",
            "load 1300 data\n",
            "load 1400 data\n",
            "load 1500 data\n",
            "load 1600 data\n",
            "load 1700 data\n",
            "load 1800 data\n",
            "load 1900 data\n",
            "load 2000 data\n",
            "load 2100 data\n",
            "load 2200 data\n",
            "load 2300 data\n",
            "load 2400 data\n",
            "(5000, 55, 30, 1)\n",
            "(5000,)\n"
          ]
        }
      ]
    },
    {
      "cell_type": "code",
      "source": [
        "plt.figure(figsize = (20,6))\n",
        "x = np.random.randint(0, 630)\n",
        "for i in range(6) :\n",
        "  plt.subplot(1,6,i+1)\n",
        "  plt.imshow(x_train[i+x][:,:,0].squeeze(), 'gray')\n",
        "  plt.title('Label is ' + str(y_train[i+x]))\n",
        "plt.plot()"
      ],
      "metadata": {
        "colab": {
          "base_uri": "https://localhost:8080/",
          "height": 232
        },
        "id": "-7RigK3i2q1t",
        "outputId": "0224e9a0-a2a4-46d8-c6cc-88cf743d24dd"
      },
      "id": "-7RigK3i2q1t",
      "execution_count": null,
      "outputs": [
        {
          "output_type": "execute_result",
          "data": {
            "text/plain": [
              "[]"
            ]
          },
          "metadata": {},
          "execution_count": 15
        },
        {
          "output_type": "display_data",
          "data": {
            "text/plain": [
              "<Figure size 1440x432 with 6 Axes>"
            ],
            "image/png": "[encoded data removed]"
          },
          "metadata": {
            "needs_background": "light"
          }
        }
      ]
    },
    {
      "cell_type": "markdown",
      "source": [
        "# one hot encoding"
      ],
      "metadata": {
        "id": "5md41jRt-PXy"
      },
      "id": "5md41jRt-PXy"
    },
    {
      "cell_type": "code",
      "source": [
        "from sklearn.preprocessing import LabelEncoder, OneHotEncoder\n",
        "\n",
        "# count label\n",
        "temp = set(y_train)\n",
        "for t in temp :\n",
        "  print('Occurance count of ' + t + ' : ' + str(len(y_train[y_train == t])))\n",
        "\n",
        "y_train_combine = LabelEncoder().fit_transform(y_train)\n",
        "y_train_one_hot = OneHotEncoder(sparse = False).fit_transform(y_train_combine.reshape(len(y_train_combine),1))\n",
        "\n",
        "combine_to_label = {y_train_combine[i] : y_train[i] for i in range(len(y_train))}\n",
        "print(combine_to_label)\n",
        "#print(y_train_one_hot)"
      ],
      "metadata": {
        "id": "eF7RHnZj-M5W",
        "colab": {
          "base_uri": "https://localhost:8080/"
        },
        "outputId": "fe2b0a55-d3be-478c-e1be-c03df9803f27"
      },
      "id": "eF7RHnZj-M5W",
      "execution_count": null,
      "outputs": [
        {
          "output_type": "stream",
          "name": "stdout",
          "text": [
            "Occurance count of y : 172\n",
            "Occurance count of v : 177\n",
            "Occurance count of a : 186\n",
            "Occurance count of 8 : 191\n",
            "Occurance count of h : 188\n",
            "Occurance count of c : 177\n",
            "Occurance count of t : 178\n",
            "Occurance count of 0 : 166\n",
            "Occurance count of s : 209\n",
            "Occurance count of 9 : 192\n",
            "Occurance count of 2 : 187\n",
            "Occurance count of n : 163\n",
            "Occurance count of f : 170\n",
            "Occurance count of w : 162\n",
            "Occurance count of x : 181\n",
            "Occurance count of j : 172\n",
            "Occurance count of d : 167\n",
            "Occurance count of e : 184\n",
            "Occurance count of r : 208\n",
            "Occurance count of 3 : 175\n",
            "Occurance count of 7 : 208\n",
            "Occurance count of 5 : 183\n",
            "Occurance count of p : 166\n",
            "Occurance count of 1 : 127\n",
            "Occurance count of 4 : 179\n",
            "Occurance count of m : 195\n",
            "Occurance count of k : 169\n",
            "Occurance count of 6 : 168\n",
            "{20: 'p', 6: '6', 12: 'd', 5: '5', 14: 'f', 26: 'x', 3: '3', 16: 'j', 19: 'n', 13: 'e', 7: '7', 23: 't', 11: 'c', 2: '2', 9: '9', 24: 'v', 17: 'k', 10: 'a', 15: 'h', 21: 'r', 25: 'w', 1: '1', 18: 'm', 4: '4', 0: '0', 22: 's', 8: '8', 27: 'y'}\n"
          ]
        }
      ]
    },
    {
      "cell_type": "markdown",
      "source": [
        "# train-test split"
      ],
      "metadata": {
        "id": "8OdcSQoLps7M"
      },
      "id": "8OdcSQoLps7M"
    },
    {
      "cell_type": "code",
      "source": [
        "print(x_train.shape)\n",
        "print(y_train_one_hot.shape)\n",
        "#print(y_train_one_hot)"
      ],
      "metadata": {
        "colab": {
          "base_uri": "https://localhost:8080/"
        },
        "id": "rlBLrii_pwfo",
        "outputId": "cfbfd18d-df07-4e4e-b745-89e76f7f4b86"
      },
      "id": "rlBLrii_pwfo",
      "execution_count": null,
      "outputs": [
        {
          "output_type": "stream",
          "name": "stdout",
          "text": [
            "(5000, 55, 30, 1)\n",
            "(5000, 28)\n"
          ]
        }
      ]
    },
    {
      "cell_type": "code",
      "source": [
        "from sklearn.model_selection import train_test_split\n",
        "\n",
        "x_train, x_val, y_train_one_hot, y_val_one_hot = train_test_split(x_train, y_train_one_hot, test_size=0.1, random_state=1)"
      ],
      "metadata": {
        "id": "zmsDp88sqAs2"
      },
      "id": "zmsDp88sqAs2",
      "execution_count": null,
      "outputs": []
    },
    {
      "cell_type": "markdown",
      "source": [
        "# over sampling"
      ],
      "metadata": {
        "id": "XAfZjVjoShWr"
      },
      "id": "XAfZjVjoShWr"
    },
    {
      "cell_type": "code",
      "source": [
        "n,w,h,c = x_train.shape\n",
        "print(n,w,h,c)\n",
        "x_train = np.reshape(x_train, (n, w*h*c))"
      ],
      "metadata": {
        "colab": {
          "base_uri": "https://localhost:8080/"
        },
        "id": "Vjrzp7odreNr",
        "outputId": "66dce449-8d31-4a03-d68d-50448750430c"
      },
      "id": "Vjrzp7odreNr",
      "execution_count": null,
      "outputs": [
        {
          "output_type": "stream",
          "name": "stdout",
          "text": [
            "4500 55 30 1\n"
          ]
        }
      ]
    },
    {
      "cell_type": "code",
      "source": [
        "from imblearn.over_sampling import SMOTE\n",
        "#print(y_train_one_hot)\n",
        "x_train, y_train_one_hot = SMOTE(sampling_strategy = 'auto', random_state = 1).fit_resample(x_train, y_train_one_hot)"
      ],
      "metadata": {
        "id": "9TVuLx81Sq0X"
      },
      "id": "9TVuLx81Sq0X",
      "execution_count": null,
      "outputs": []
    },
    {
      "cell_type": "code",
      "source": [
        "print(x_train.shape)\n",
        "print(y_train_one_hot.shape)\n",
        "x_train = np.reshape(x_train, (x_train.shape[0],w,h,c))\n",
        "print(x_train.shape)"
      ],
      "metadata": {
        "colab": {
          "base_uri": "https://localhost:8080/"
        },
        "id": "rvQkWMWCVUtq",
        "outputId": "2bccae61-ec17-4926-ce05-937228a002a5"
      },
      "id": "rvQkWMWCVUtq",
      "execution_count": null,
      "outputs": [
        {
          "output_type": "stream",
          "name": "stdout",
          "text": [
            "(5320, 1650)\n",
            "(5320, 28)\n",
            "(5320, 55, 30, 1)\n"
          ]
        }
      ]
    },
    {
      "cell_type": "markdown",
      "source": [
        "# Model Creation"
      ],
      "metadata": {
        "id": "_qRnR6m_B1iQ"
      },
      "id": "_qRnR6m_B1iQ"
    },
    {
      "cell_type": "code",
      "source": [
        "from keras.models import Sequential \n",
        "from keras.layers import Dense\n",
        "from keras.layers import Conv2D\n",
        "from keras.layers import Flatten\n",
        "from keras.layers import MaxPooling2D\n",
        "from keras.layers import BatchNormalization\n",
        "\n",
        "from keras.layers import Dropout\n",
        "from keras.layers import Input\n",
        "from keras.optimizers import RMSprop"
      ],
      "metadata": {
        "id": "SgkW4iBwB46P"
      },
      "id": "SgkW4iBwB46P",
      "execution_count": null,
      "outputs": []
    },
    {
      "cell_type": "code",
      "source": [
        "print(x_train.shape)\n",
        "print(y_train_one_hot.shape)\n",
        "print(x_val.shape)\n",
        "print(y_val_one_hot.shape)"
      ],
      "metadata": {
        "colab": {
          "base_uri": "https://localhost:8080/"
        },
        "id": "kwMh9_vfB6Fo",
        "outputId": "e2711920-974f-4f10-c4cc-21e0517d700b"
      },
      "id": "kwMh9_vfB6Fo",
      "execution_count": null,
      "outputs": [
        {
          "output_type": "stream",
          "name": "stdout",
          "text": [
            "(5320, 55, 30, 1)\n",
            "(5320, 28)\n",
            "(500, 55, 30, 1)\n",
            "(500, 28)\n"
          ]
        }
      ]
    },
    {
      "cell_type": "code",
      "source": [
        "# cnn\n",
        "def cnn () :\n",
        "    \n",
        "  model = Sequential()\n",
        "\n",
        "  model.add(Conv2D(filters=32, kernel_size=(5,5), padding='same', \n",
        "                        activation='relu', input_shape = (55,30,1)))\n",
        "  model.add(Conv2D(filters=32, kernel_size=(5,5), padding='same', \n",
        "                        activation='relu'))\n",
        "  model.add(MaxPooling2D(pool_size=(2,2)))\n",
        "  model.add(Dropout(0.25))\n",
        "\n",
        "\n",
        "  model.add(Conv2D(filters=64, kernel_size=(3,3), padding='same', \n",
        "                        activation='relu', input_shape = (55,30,1)))\n",
        "  model.add(Conv2D(filters=64, kernel_size=(3,3), padding='same', \n",
        "                        activation='relu'))\n",
        "  model.add(MaxPooling2D(pool_size=(2,2),strides=(2,2)))\n",
        "  model.add(Dropout(0.25))\n",
        "\n",
        "  model.add(Flatten())\n",
        "  model.add(Dense(256,activation='relu'))\n",
        "  model.add(Dropout(0.25))\n",
        "  model.add(Dense(28,activation='softmax'))\n",
        "\n",
        "  # define optimizer\n",
        "  optimizer = keras.optimizers.RMSprop(learning_rate=0.001, rho=0.9, epsilon=1e-08, decay=0.0)\n",
        "  # compile\n",
        "  model.compile(optimizer = optimizer, loss='categorical_crossentropy', \n",
        "             metrics=[\"accuracy\"])\n",
        "  return model"
      ],
      "metadata": {
        "id": "TuMDvso7EvEM"
      },
      "id": "TuMDvso7EvEM",
      "execution_count": null,
      "outputs": []
    },
    {
      "cell_type": "markdown",
      "source": [
        "# Data augmentaion"
      ],
      "metadata": {
        "id": "9R-fiyxWI5c3"
      },
      "id": "9R-fiyxWI5c3"
    },
    {
      "cell_type": "code",
      "source": [
        "from keras.preprocessing.image import ImageDataGenerator\n",
        "\n",
        "img_gen = ImageDataGenerator(\n",
        "        featurewise_center=False,  # set input mean to 0 over the dataset\n",
        "        samplewise_center=False,  # set each sample mean to 0\n",
        "        featurewise_std_normalization=False,  # divide inputs by std of the dataset\n",
        "        samplewise_std_normalization=False,  # divide each input by its std\n",
        "        zca_whitening=False,  # apply ZCA whitening\n",
        "        rotation_range=10,  # randomly rotate images in the range (degrees, 0 to 180)\n",
        "        zoom_range = 0.1, # Randomly zoom image \n",
        "        width_shift_range=0.1,  # randomly shift images horizontally (fraction of total width)\n",
        "        height_shift_range=0.1,  # randomly shift images vertically (fraction of total height)\n",
        "        horizontal_flip=False,  # randomly flip images\n",
        "        vertical_flip=False)  # randomly flip images\n",
        "        \n",
        "img_gen.fit(x_train)\n",
        "train_set = img_gen.flow(x_train, y_train_one_hot)\n",
        "trainX, trainY = train_set.next()"
      ],
      "metadata": {
        "id": "cpSYrN9TI86Z"
      },
      "id": "cpSYrN9TI86Z",
      "execution_count": null,
      "outputs": []
    },
    {
      "cell_type": "code",
      "source": [
        "# showcase\n",
        "plt.figure(figsize = (20,20))\n",
        "\n",
        "lo = 0\n",
        "hi = 32\n",
        "\n",
        "for i in range(25) :\n",
        "    plt.subplot(5,5,i+1)\n",
        "    x = np.random.randint(lo, hi)\n",
        "    plt.imshow(trainX[x][:,:,0].squeeze(), 'gray')\n",
        "    plt.title('Label is ' + str(combine_to_label[np.argmax(trainY[x])]))\n",
        "plt.show()"
      ],
      "metadata": {
        "colab": {
          "base_uri": "https://localhost:8080/",
          "height": 734
        },
        "id": "_U1qWk5_LwzA",
        "outputId": "d7c0798b-05bd-46d8-cd6f-d3f1143d249e"
      },
      "id": "_U1qWk5_LwzA",
      "execution_count": null,
      "outputs": [
        {
          "output_type": "display_data",
          "data": {
            "text/plain": [
              "<Figure size 1440x1440 with 25 Axes>"
            ],
            "image/png": "[encoded data removed]"
          },
          "metadata": {
            "needs_background": "light"
          }
        }
      ]
    },
    {
      "cell_type": "markdown",
      "source": [
        "# Model Training"
      ],
      "metadata": {
        "id": "jrWDWTARS0kz"
      },
      "id": "jrWDWTARS0kz"
    },
    {
      "cell_type": "code",
      "execution_count": null,
      "id": "17b6db42",
      "metadata": {
        "execution": {
          "iopub.execute_input": "2022-11-25T04:50:33.012917Z",
          "iopub.status.busy": "2022-11-25T04:50:33.012513Z",
          "iopub.status.idle": "2022-11-25T04:50:33.023305Z",
          "shell.execute_reply": "2022-11-25T04:50:33.021968Z"
        },
        "papermill": {
          "duration": 0.017781,
          "end_time": "2022-11-25T04:50:33.025650",
          "exception": false,
          "start_time": "2022-11-25T04:50:33.007869",
          "status": "completed"
        },
        "tags": [],
        "id": "17b6db42",
        "colab": {
          "base_uri": "https://localhost:8080/"
        },
        "outputId": "f26718ab-1bdb-4b79-f402-0a3812fb50c4"
      },
      "outputs": [
        {
          "output_type": "stream",
          "name": "stdout",
          "text": [
            "(5320, 55, 30, 1)\n",
            "(5320, 28)\n",
            "Model: \"sequential_1\"\n",
            "_________________________________________________________________\n",
            " Layer (type)                Output Shape              Param #   \n",
            "=================================================================\n",
            " conv2d_4 (Conv2D)           (None, 55, 30, 32)        832       \n",
            "                                                                 \n",
            " conv2d_5 (Conv2D)           (None, 55, 30, 32)        25632     \n",
            "                                                                 \n",
            " max_pooling2d_2 (MaxPooling  (None, 27, 15, 32)       0         \n",
            " 2D)                                                             \n",
            "                                                                 \n",
            " dropout_3 (Dropout)         (None, 27, 15, 32)        0         \n",
            "                                                                 \n",
            " conv2d_6 (Conv2D)           (None, 27, 15, 64)        18496     \n",
            "                                                                 \n",
            " conv2d_7 (Conv2D)           (None, 27, 15, 64)        36928     \n",
            "                                                                 \n",
            " max_pooling2d_3 (MaxPooling  (None, 13, 7, 64)        0         \n",
            " 2D)                                                             \n",
            "                                                                 \n",
            " dropout_4 (Dropout)         (None, 13, 7, 64)         0         \n",
            "                                                                 \n",
            " flatten_1 (Flatten)         (None, 5824)              0         \n",
            "                                                                 \n",
            " dense_2 (Dense)             (None, 256)               1491200   \n",
            "                                                                 \n",
            " dropout_5 (Dropout)         (None, 256)               0         \n",
            "                                                                 \n",
            " dense_3 (Dense)             (None, 28)                7196      \n",
            "                                                                 \n",
            "=================================================================\n",
            "Total params: 1,580,284\n",
            "Trainable params: 1,580,284\n",
            "Non-trainable params: 0\n",
            "_________________________________________________________________\n"
          ]
        }
      ],
      "source": [
        "# check on train set\n",
        "print(x_train.shape)\n",
        "print(y_train_one_hot.shape)\n",
        "# model parameters\n",
        "model = cnn()\n",
        "model.summary()"
      ]
    },
    {
      "cell_type": "markdown",
      "source": [
        "## Model checkpoint"
      ],
      "metadata": {
        "id": "1bxt1SToTnI1"
      },
      "id": "1bxt1SToTnI1"
    },
    {
      "cell_type": "code",
      "source": [
        "from keras.callbacks import ModelCheckpoint, ReduceLROnPlateau # learning rate decreasing\n",
        "\n",
        "check_point = ModelCheckpoint('drive/MyDrive/kaggle/task2_model.h5', monitor = 'val_accuracy', verbose = 1, save_best_only = True)\n",
        "# reduction on lr\n",
        "reduce = ReduceLROnPlateau(monitor = 'val_accuracy', patience = 3, verbose = 1, factor=0.5, min_lr=0.00001)\n",
        "# check on train set\n",
        "print(x_train.shape)\n",
        "print(y_train_one_hot.shape)"
      ],
      "metadata": {
        "colab": {
          "base_uri": "https://localhost:8080/"
        },
        "id": "H_6Cy133TLdT",
        "outputId": "a5cf662f-70b6-41e3-aade-84f7deca880b"
      },
      "id": "H_6Cy133TLdT",
      "execution_count": null,
      "outputs": [
        {
          "output_type": "stream",
          "name": "stdout",
          "text": [
            "(5320, 55, 30, 1)\n",
            "(5320, 28)\n"
          ]
        }
      ]
    },
    {
      "cell_type": "code",
      "source": [
        "# start training\n",
        "batch_size = 128\n",
        "history = model.fit(img_gen.flow(x_train, y_train_one_hot, batch_size = batch_size), \n",
        "          validation_data = (x_val, y_val_one_hot), epochs = 30, \n",
        "          steps_per_epoch = len(x_train)// batch_size, callbacks = [check_point, reduce])"
      ],
      "metadata": {
        "id": "xf5fuMlgVQ7b",
        "colab": {
          "base_uri": "https://localhost:8080/"
        },
        "outputId": "60347d28-1a62-4b22-a930-23be10886a46"
      },
      "id": "xf5fuMlgVQ7b",
      "execution_count": null,
      "outputs": [
        {
          "output_type": "stream",
          "name": "stdout",
          "text": [
            "Epoch 1/30\n",
            "41/41 [==============================] - ETA: 0s - loss: 3.1886 - accuracy: 0.0921\n",
            "Epoch 1: val_accuracy improved from -inf to 0.31200, saving model to drive/MyDrive/kaggle/task2_model.h5\n",
            "41/41 [==============================] - 12s 72ms/step - loss: 3.1886 - accuracy: 0.0921 - val_loss: 2.3540 - val_accuracy: 0.3120 - lr: 0.0010\n",
            "Epoch 2/30\n",
            "41/41 [==============================] - ETA: 0s - loss: 2.3237 - accuracy: 0.3007\n",
            "Epoch 2: val_accuracy improved from 0.31200 to 0.56200, saving model to drive/MyDrive/kaggle/task2_model.h5\n",
            "41/41 [==============================] - 2s 58ms/step - loss: 2.3237 - accuracy: 0.3007 - val_loss: 1.3930 - val_accuracy: 0.5620 - lr: 0.0010\n",
            "Epoch 3/30\n",
            "40/41 [============================>.] - ETA: 0s - loss: 1.8175 - accuracy: 0.4443\n",
            "Epoch 3: val_accuracy improved from 0.56200 to 0.68000, saving model to drive/MyDrive/kaggle/task2_model.h5\n",
            "41/41 [==============================] - 2s 50ms/step - loss: 1.8099 - accuracy: 0.4470 - val_loss: 1.0517 - val_accuracy: 0.6800 - lr: 0.0010\n",
            "Epoch 4/30\n",
            "41/41 [==============================] - ETA: 0s - loss: 1.4512 - accuracy: 0.5643\n",
            "Epoch 4: val_accuracy improved from 0.68000 to 0.76000, saving model to drive/MyDrive/kaggle/task2_model.h5\n",
            "41/41 [==============================] - 2s 51ms/step - loss: 1.4512 - accuracy: 0.5643 - val_loss: 0.7381 - val_accuracy: 0.7600 - lr: 0.0010\n",
            "Epoch 5/30\n",
            "41/41 [==============================] - ETA: 0s - loss: 1.2288 - accuracy: 0.6283\n",
            "Epoch 5: val_accuracy improved from 0.76000 to 0.80800, saving model to drive/MyDrive/kaggle/task2_model.h5\n",
            "41/41 [==============================] - 2s 50ms/step - loss: 1.2288 - accuracy: 0.6283 - val_loss: 0.6367 - val_accuracy: 0.8080 - lr: 0.0010\n",
            "Epoch 6/30\n",
            "41/41 [==============================] - ETA: 0s - loss: 1.0473 - accuracy: 0.6888\n",
            "Epoch 6: val_accuracy improved from 0.80800 to 0.83000, saving model to drive/MyDrive/kaggle/task2_model.h5\n",
            "41/41 [==============================] - 2s 50ms/step - loss: 1.0473 - accuracy: 0.6888 - val_loss: 0.5030 - val_accuracy: 0.8300 - lr: 0.0010\n",
            "Epoch 7/30\n",
            "41/41 [==============================] - ETA: 0s - loss: 0.9360 - accuracy: 0.7203\n",
            "Epoch 7: val_accuracy improved from 0.83000 to 0.88200, saving model to drive/MyDrive/kaggle/task2_model.h5\n",
            "41/41 [==============================] - 2s 50ms/step - loss: 0.9360 - accuracy: 0.7203 - val_loss: 0.3984 - val_accuracy: 0.8820 - lr: 0.0010\n",
            "Epoch 8/30\n",
            "41/41 [==============================] - ETA: 0s - loss: 0.8103 - accuracy: 0.7587\n",
            "Epoch 8: val_accuracy did not improve from 0.88200\n",
            "41/41 [==============================] - 2s 49ms/step - loss: 0.8103 - accuracy: 0.7587 - val_loss: 0.4334 - val_accuracy: 0.8620 - lr: 0.0010\n",
            "Epoch 9/30\n",
            "40/41 [============================>.] - ETA: 0s - loss: 0.7284 - accuracy: 0.7818\n",
            "Epoch 9: val_accuracy improved from 0.88200 to 0.89600, saving model to drive/MyDrive/kaggle/task2_model.h5\n",
            "41/41 [==============================] - 2s 50ms/step - loss: 0.7274 - accuracy: 0.7822 - val_loss: 0.3408 - val_accuracy: 0.8960 - lr: 0.0010\n",
            "Epoch 10/30\n",
            "41/41 [==============================] - ETA: 0s - loss: 0.6558 - accuracy: 0.7976\n",
            "Epoch 10: val_accuracy improved from 0.89600 to 0.92400, saving model to drive/MyDrive/kaggle/task2_model.h5\n",
            "41/41 [==============================] - 2s 50ms/step - loss: 0.6558 - accuracy: 0.7976 - val_loss: 0.2617 - val_accuracy: 0.9240 - lr: 0.0010\n",
            "Epoch 11/30\n",
            "41/41 [==============================] - ETA: 0s - loss: 0.6010 - accuracy: 0.8155\n",
            "Epoch 11: val_accuracy improved from 0.92400 to 0.93000, saving model to drive/MyDrive/kaggle/task2_model.h5\n",
            "41/41 [==============================] - 2s 51ms/step - loss: 0.6010 - accuracy: 0.8155 - val_loss: 0.2429 - val_accuracy: 0.9300 - lr: 0.0010\n",
            "Epoch 12/30\n",
            "41/41 [==============================] - ETA: 0s - loss: 0.5423 - accuracy: 0.8390\n",
            "Epoch 12: val_accuracy did not improve from 0.93000\n",
            "41/41 [==============================] - 2s 49ms/step - loss: 0.5423 - accuracy: 0.8390 - val_loss: 0.2375 - val_accuracy: 0.9260 - lr: 0.0010\n",
            "Epoch 13/30\n",
            "40/41 [============================>.] - ETA: 0s - loss: 0.5130 - accuracy: 0.8416\n",
            "Epoch 13: val_accuracy improved from 0.93000 to 0.95000, saving model to drive/MyDrive/kaggle/task2_model.h5\n",
            "41/41 [==============================] - 2s 51ms/step - loss: 0.5105 - accuracy: 0.8423 - val_loss: 0.1715 - val_accuracy: 0.9500 - lr: 0.0010\n",
            "Epoch 14/30\n",
            "41/41 [==============================] - ETA: 0s - loss: 0.4632 - accuracy: 0.8596\n",
            "Epoch 14: val_accuracy did not improve from 0.95000\n",
            "41/41 [==============================] - 2s 49ms/step - loss: 0.4632 - accuracy: 0.8596 - val_loss: 0.2029 - val_accuracy: 0.9300 - lr: 0.0010\n",
            "Epoch 15/30\n",
            "41/41 [==============================] - ETA: 0s - loss: 0.4595 - accuracy: 0.8609\n",
            "Epoch 15: val_accuracy did not improve from 0.95000\n",
            "41/41 [==============================] - 2s 51ms/step - loss: 0.4595 - accuracy: 0.8609 - val_loss: 0.2265 - val_accuracy: 0.9380 - lr: 0.0010\n",
            "Epoch 16/30\n",
            "41/41 [==============================] - ETA: 0s - loss: 0.4268 - accuracy: 0.8661\n",
            "Epoch 16: val_accuracy did not improve from 0.95000\n",
            "\n",
            "Epoch 16: ReduceLROnPlateau reducing learning rate to 0.0005000000237487257.\n",
            "41/41 [==============================] - 2s 50ms/step - loss: 0.4268 - accuracy: 0.8661 - val_loss: 0.2164 - val_accuracy: 0.9300 - lr: 0.0010\n",
            "Epoch 17/30\n",
            "41/41 [==============================] - ETA: 0s - loss: 0.3664 - accuracy: 0.8871\n",
            "Epoch 17: val_accuracy did not improve from 0.95000\n",
            "41/41 [==============================] - 2s 50ms/step - loss: 0.3664 - accuracy: 0.8871 - val_loss: 0.1797 - val_accuracy: 0.9320 - lr: 5.0000e-04\n",
            "Epoch 18/30\n",
            "40/41 [============================>.] - ETA: 0s - loss: 0.3190 - accuracy: 0.8999\n",
            "Epoch 18: val_accuracy improved from 0.95000 to 0.95400, saving model to drive/MyDrive/kaggle/task2_model.h5\n",
            "41/41 [==============================] - 2s 60ms/step - loss: 0.3192 - accuracy: 0.8997 - val_loss: 0.1470 - val_accuracy: 0.9540 - lr: 5.0000e-04\n",
            "Epoch 19/30\n",
            "41/41 [==============================] - ETA: 0s - loss: 0.3089 - accuracy: 0.9039\n",
            "Epoch 19: val_accuracy did not improve from 0.95400\n",
            "41/41 [==============================] - 2s 48ms/step - loss: 0.3089 - accuracy: 0.9039 - val_loss: 0.2081 - val_accuracy: 0.9380 - lr: 5.0000e-04\n",
            "Epoch 20/30\n",
            "41/41 [==============================] - ETA: 0s - loss: 0.3049 - accuracy: 0.9037\n",
            "Epoch 20: val_accuracy did not improve from 0.95400\n",
            "41/41 [==============================] - 2s 49ms/step - loss: 0.3049 - accuracy: 0.9037 - val_loss: 0.1618 - val_accuracy: 0.9460 - lr: 5.0000e-04\n",
            "Epoch 21/30\n",
            "40/41 [============================>.] - ETA: 0s - loss: 0.3048 - accuracy: 0.9060\n",
            "Epoch 21: val_accuracy did not improve from 0.95400\n",
            "\n",
            "Epoch 21: ReduceLROnPlateau reducing learning rate to 0.0002500000118743628.\n",
            "41/41 [==============================] - 2s 50ms/step - loss: 0.3078 - accuracy: 0.9056 - val_loss: 0.1597 - val_accuracy: 0.9480 - lr: 5.0000e-04\n",
            "Epoch 22/30\n",
            "41/41 [==============================] - ETA: 0s - loss: 0.2717 - accuracy: 0.9181\n",
            "Epoch 22: val_accuracy did not improve from 0.95400\n",
            "41/41 [==============================] - 2s 48ms/step - loss: 0.2717 - accuracy: 0.9181 - val_loss: 0.1655 - val_accuracy: 0.9500 - lr: 2.5000e-04\n",
            "Epoch 23/30\n",
            "41/41 [==============================] - ETA: 0s - loss: 0.2514 - accuracy: 0.9201\n",
            "Epoch 23: val_accuracy did not improve from 0.95400\n",
            "41/41 [==============================] - 2s 49ms/step - loss: 0.2514 - accuracy: 0.9201 - val_loss: 0.1438 - val_accuracy: 0.9380 - lr: 2.5000e-04\n",
            "Epoch 24/30\n",
            "41/41 [==============================] - ETA: 0s - loss: 0.2451 - accuracy: 0.9235\n",
            "Epoch 24: val_accuracy did not improve from 0.95400\n",
            "\n",
            "Epoch 24: ReduceLROnPlateau reducing learning rate to 0.0001250000059371814.\n",
            "41/41 [==============================] - 2s 48ms/step - loss: 0.2451 - accuracy: 0.9235 - val_loss: 0.1403 - val_accuracy: 0.9480 - lr: 2.5000e-04\n",
            "Epoch 25/30\n",
            "40/41 [============================>.] - ETA: 0s - loss: 0.2392 - accuracy: 0.9238\n",
            "Epoch 25: val_accuracy did not improve from 0.95400\n",
            "41/41 [==============================] - 2s 49ms/step - loss: 0.2378 - accuracy: 0.9239 - val_loss: 0.1487 - val_accuracy: 0.9540 - lr: 1.2500e-04\n",
            "Epoch 26/30\n",
            "40/41 [============================>.] - ETA: 0s - loss: 0.2549 - accuracy: 0.9226\n",
            "Epoch 26: val_accuracy did not improve from 0.95400\n",
            "41/41 [==============================] - 2s 49ms/step - loss: 0.2541 - accuracy: 0.9230 - val_loss: 0.1559 - val_accuracy: 0.9520 - lr: 1.2500e-04\n",
            "Epoch 27/30\n",
            "40/41 [============================>.] - ETA: 0s - loss: 0.2204 - accuracy: 0.9293\n",
            "Epoch 27: val_accuracy improved from 0.95400 to 0.96000, saving model to drive/MyDrive/kaggle/task2_model.h5\n",
            "41/41 [==============================] - 2s 58ms/step - loss: 0.2218 - accuracy: 0.9293 - val_loss: 0.1390 - val_accuracy: 0.9600 - lr: 1.2500e-04\n",
            "Epoch 28/30\n",
            "41/41 [==============================] - ETA: 0s - loss: 0.2244 - accuracy: 0.9258\n",
            "Epoch 28: val_accuracy did not improve from 0.96000\n",
            "41/41 [==============================] - 2s 50ms/step - loss: 0.2244 - accuracy: 0.9258 - val_loss: 0.1445 - val_accuracy: 0.9500 - lr: 1.2500e-04\n",
            "Epoch 29/30\n",
            "41/41 [==============================] - ETA: 0s - loss: 0.2282 - accuracy: 0.9309\n",
            "Epoch 29: val_accuracy did not improve from 0.96000\n",
            "41/41 [==============================] - 2s 48ms/step - loss: 0.2282 - accuracy: 0.9309 - val_loss: 0.1339 - val_accuracy: 0.9560 - lr: 1.2500e-04\n",
            "Epoch 30/30\n",
            "40/41 [============================>.] - ETA: 0s - loss: 0.2251 - accuracy: 0.9307\n",
            "Epoch 30: val_accuracy did not improve from 0.96000\n",
            "\n",
            "Epoch 30: ReduceLROnPlateau reducing learning rate to 6.25000029685907e-05.\n",
            "41/41 [==============================] - 2s 49ms/step - loss: 0.2278 - accuracy: 0.9299 - val_loss: 0.1395 - val_accuracy: 0.9560 - lr: 1.2500e-04\n"
          ]
        }
      ]
    },
    {
      "cell_type": "code",
      "execution_count": null,
      "id": "0a53da04",
      "metadata": {
        "execution": {
          "iopub.execute_input": "2022-11-25T04:50:33.034252Z",
          "iopub.status.busy": "2022-11-25T04:50:33.033815Z",
          "iopub.status.idle": "2022-11-25T04:50:33.040353Z",
          "shell.execute_reply": "2022-11-25T04:50:33.039453Z"
        },
        "papermill": {
          "duration": 0.013488,
          "end_time": "2022-11-25T04:50:33.042726",
          "exception": false,
          "start_time": "2022-11-25T04:50:33.029238",
          "status": "completed"
        },
        "tags": [],
        "id": "0a53da04",
        "colab": {
          "base_uri": "https://localhost:8080/",
          "height": 381
        },
        "outputId": "c7e5c6df-861f-48be-9c54-39faa077ef44"
      },
      "outputs": [
        {
          "output_type": "execute_result",
          "data": {
            "text/plain": [
              "Text(0.5, 1.0, 'Model accuracy wrt Epoch')"
            ]
          },
          "metadata": {},
          "execution_count": 38
        },
        {
          "output_type": "display_data",
          "data": {
            "text/plain": [
              "<Figure size 1440x720 with 2 Axes>"
            ],
            "image/png": "[encoded data removed]"
          },
          "metadata": {
            "needs_background": "light"
          }
        }
      ],
      "source": [
        "# plot training result\n",
        "plt.figure(figsize = (20,10))\n",
        "plt.subplot(2,1,1)\n",
        "plt.plot(history.history['loss'])\n",
        "plt.plot(history.history['val_loss'])\n",
        "plt.xlabel('Epochs')\n",
        "plt.ylabel('Losses')\n",
        "plt.legend(['train loss','val loss'])\n",
        "plt.title('Loss function wrt epochs')\n",
        "\n",
        "plt.subplot(2,1,2)\n",
        "plt.plot(history.history['accuracy'])\n",
        "plt.plot(history.history['val_accuracy'])\n",
        "plt.xlabel('Epochs')\n",
        "plt.ylabel('Accuracy')\n",
        "plt.legend(['train acc' , 'val acc'])\n",
        "plt.title('Model accuracy wrt Epoch')"
      ]
    },
    {
      "cell_type": "markdown",
      "source": [
        "# Prediction"
      ],
      "metadata": {
        "id": "8wIDTHqgY4TP"
      },
      "id": "8wIDTHqgY4TP"
    },
    {
      "cell_type": "code",
      "execution_count": null,
      "id": "c872bf98",
      "metadata": {
        "execution": {
          "iopub.execute_input": "2022-11-25T04:50:33.052439Z",
          "iopub.status.busy": "2022-11-25T04:50:33.051285Z",
          "iopub.status.idle": "2022-11-25T04:50:33.078651Z",
          "shell.execute_reply": "2022-11-25T04:50:33.077413Z"
        },
        "papermill": {
          "duration": 0.035192,
          "end_time": "2022-11-25T04:50:33.081577",
          "exception": false,
          "start_time": "2022-11-25T04:50:33.046385",
          "status": "completed"
        },
        "tags": [],
        "id": "c872bf98",
        "colab": {
          "base_uri": "https://localhost:8080/"
        },
        "outputId": "b40d9db8-d313-4275-92ab-56fd8d610dc2"
      },
      "outputs": [
        {
          "output_type": "stream",
          "name": "stdout",
          "text": [
            "0 data read\n",
            "1000 data read\n",
            "2000 data read\n"
          ]
        }
      ],
      "source": [
        "from keras.models import load_model\n",
        "\n",
        "# need \n",
        "model = load_model(\"drive/MyDrive/kaggle/task2_model.h5\")\n",
        "# make prediction on x_test\n",
        "x_test = []\n",
        "count = 0\n",
        "for image_p in os.listdir( os.path.join(TEST_PATH, 'task2') ):\n",
        "  if(count % 1000 == 0):\n",
        "    print(f\"{count} data read\")\n",
        "  count+=1\n",
        "\n",
        "  img = cv2.imread( os.path.join(TEST_PATH, 'task2', image_p), cv2.IMREAD_GRAYSCALE )\n",
        "  img = preprocessing(img)\n",
        "  # two 30 X 55 digits\n",
        "  image_list = [img[5:60, 10:40], img[5:60, 40:70]]\n",
        "  for i in range(2):\n",
        "    x_test.append(img_to_array(Image.fromarray(image_list[i])))"
      ]
    },
    {
      "cell_type": "code",
      "source": [
        "x_test = np.array(x_test)\n",
        "print(x_test.shape)\n",
        "pred = model.predict(x_test)\n",
        "print(pred[0])\n",
        "pred = np.argmax(pred, axis=1)\n",
        "print(pred[0])\n",
        "print(pred.shape)\n",
        "\n",
        "# write submission csv for task 2\n",
        "with open('drive/MyDrive/kaggle/submission2.csv', 'w', newline='') as csvFile:\n",
        "  csv_writer = csv.writer(csvFile)\n",
        "  i = 0\n",
        "  for image_p in os.listdir( os.path.join(TEST_PATH, 'task2') ):\n",
        "    csv_writer.writerow( ['task2/'+image_p, str(combine_to_label[pred[i]])+str(combine_to_label[pred[i+1]])] ) \n",
        "    i += 2"
      ],
      "metadata": {
        "colab": {
          "base_uri": "https://localhost:8080/"
        },
        "id": "8ZtecEjNKJUG",
        "outputId": "64c7c266-1dbc-44c8-e2ec-ac1be0123586"
      },
      "id": "8ZtecEjNKJUG",
      "execution_count": null,
      "outputs": [
        {
          "output_type": "stream",
          "name": "stdout",
          "text": [
            "(5000, 55, 30, 1)\n",
            "157/157 [==============================] - 0s 3ms/step\n",
            "[0. 0. 0. 0. 0. 1. 0. 0. 0. 0. 0. 0. 0. 0. 0. 0. 0. 0. 0. 0. 0. 0. 0. 0.\n",
            " 0. 0. 0. 0.]\n",
            "5\n",
            "(5000,)\n"
          ]
        }
      ]
    },
    {
      "cell_type": "code",
      "source": [
        "# check for submission.csv\n",
        "task1, task2, task3 = 0,0,0\n",
        "with open('drive/MyDrive/kaggle/submission2.csv', newline='') as csvFile:\n",
        "    rows = csv.reader(csvFile)\n",
        "\n",
        "    for row in rows:\n",
        "        if(row[0][:5]==\"task1\"):\n",
        "            task1+=1\n",
        "        elif(row[0][:5]==\"task2\"):\n",
        "            task2+=1\n",
        "        elif(row[0][:5]==\"task3\"):\n",
        "            task3+=1\n",
        "\n",
        "    print(task1, task2, task3)"
      ],
      "metadata": {
        "colab": {
          "base_uri": "https://localhost:8080/"
        },
        "id": "tmJqL3DsLh_8",
        "outputId": "d87b9206-6173-4b5a-c6ca-327ff4389dfe"
      },
      "id": "tmJqL3DsLh_8",
      "execution_count": null,
      "outputs": [
        {
          "output_type": "stream",
          "name": "stdout",
          "text": [
            "0 2500 0\n"
          ]
        }
      ]
    },
    {
      "cell_type": "code",
      "source": [
        "# take a look at prediction\n",
        "plt.figure(figsize = (20,20))\n",
        "\n",
        "lo = 0\n",
        "hi = 4750\n",
        "\n",
        "for i in range(25) :\n",
        "    plt.subplot(5,5,i+1)\n",
        "    x = np.random.randint(lo, hi)\n",
        "    plt.imshow(x_test[x][:,:,0].squeeze(), 'gray')\n",
        "    plt.title('Label is ' + str(combine_to_label[pred[x]]))\n",
        "plt.show()"
      ],
      "metadata": {
        "colab": {
          "base_uri": "https://localhost:8080/",
          "height": 734
        },
        "id": "KEwnEjDbgOVV",
        "outputId": "e5a50302-6d77-4671-b5ba-87d7bcaa2e01"
      },
      "id": "KEwnEjDbgOVV",
      "execution_count": null,
      "outputs": [
        {
          "output_type": "display_data",
          "data": {
            "text/plain": [
              "<Figure size 1440x1440 with 25 Axes>"
            ],
            "image/png": "[encoded data removed]"
          },
          "metadata": {
            "needs_background": "light"
          }
        }
      ]
    }
  ],
  "metadata": {
    "kernelspec": {
      "display_name": "Python 3.8.0 64-bit",
      "language": "python",
      "name": "python3"
    },
    "language_info": {
      "codemirror_mode": {
        "name": "ipython",
        "version": 3
      },
      "file_extension": ".py",
      "mimetype": "text/x-python",
      "name": "python",
      "nbconvert_exporter": "python",
      "pygments_lexer": "ipython3",
      "version": "3.8.0"
    },
    "papermill": {
      "default_parameters": {},
      "duration": 242.076508,
      "end_time": "2022-11-25T04:54:16.697471",
      "environment_variables": {},
      "exception": null,
      "input_path": "__notebook__.ipynb",
      "output_path": "__notebook__.ipynb",
      "parameters": {},
      "start_time": "2022-11-25T04:50:14.620963",
      "version": "2.3.4"
    },
    "vscode": {
      "interpreter": {
        "hash": "d0810b6b405b65e6919a2ee9046fce5f3c4f364916402226809b950bddee695a"
      }
    },
    "colab": {
      "provenance": [],
      "include_colab_link": true
    },
    "gpuClass": "standard",
    "accelerator": "GPU"
  },
  "nbformat": 4,
  "nbformat_minor": 5
}